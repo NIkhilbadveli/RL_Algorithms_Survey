{
 "cells": [
  {
   "cell_type": "markdown",
   "source": [
    "# Environment\n",
    "Track will be generated at random.\n",
    "\n",
    "* Observation space:- 96x96 pixels\n",
    "* Action space:- If continuous: There are 3 actions: steering (-1 is full left, +1 is full right), gas, and breaking. If discrete: There are 5 actions: do nothing, steer left, steer right, gas, brake.\n",
    "* Rewards:- The reward is -0.1 every frame and +1000/N for every track tile visited, where N is the total number of tiles visited in the track. For example, if you have finished in 732 frames, your reward is 1000 - 0.1*732 = 926.8 points.\n",
    "* Episode termination:- The episode finishes when all of the tiles are visited. The car can also go outside of the playfield - that is, far off the track, in which case it will receive -100 reward and die."
   ],
   "metadata": {
    "collapsed": false
   }
  },
  {
   "cell_type": "code",
   "execution_count": 1,
   "outputs": [],
   "source": [
    "import gym\n",
    "from stable_baselines3.ppo import PPO\n",
    "from stable_baselines3.common.monitor import Monitor\n",
    "from stable_baselines3.ppo.policies import MlpPolicy\n",
    "from stable_baselines3.common.evaluation import evaluate_policy\n",
    "import numpy as np"
   ],
   "metadata": {
    "collapsed": false
   }
  },
  {
   "cell_type": "code",
   "execution_count": 11,
   "outputs": [],
   "source": [
    "# Get the environment\n",
    "env = gym.make('CarRacing-v0')\n",
    "\n",
    "# Wrap with monitor\n",
    "env = Monitor(env)"
   ],
   "metadata": {
    "collapsed": false
   }
  },
  {
   "cell_type": "code",
   "execution_count": 12,
   "outputs": [],
   "source": [
    "# Get the model\n",
    "model = PPO(MlpPolicy, env, verbose=0, device='cuda')"
   ],
   "metadata": {
    "collapsed": false
   }
  },
  {
   "cell_type": "code",
   "execution_count": 13,
   "outputs": [],
   "source": [
    "# Define the evaluation function\n",
    "def eval_model(mdl, env_in, num_eval=50):\n",
    "    eps_rewards, eps_lengths = evaluate_policy(mdl, env=env_in, n_eval_episodes=num_eval, return_episode_rewards=True)\n",
    "    print('Mean reward', np.mean(eps_rewards))\n",
    "    print('Std reward', np.std(eps_rewards))\n",
    "    print('Mean episode length', np.mean(eps_lengths))"
   ],
   "metadata": {
    "collapsed": false
   }
  },
  {
   "cell_type": "code",
   "execution_count": 14,
   "outputs": [
    {
     "data": {
      "text/plain": "<stable_baselines3.ppo.ppo.PPO at 0x7f80b8ff9f90>"
     },
     "execution_count": 14,
     "metadata": {},
     "output_type": "execute_result"
    }
   ],
   "source": [
    "# Train the model\n",
    "model.learn(total_timesteps=1e5)"
   ],
   "metadata": {
    "collapsed": false
   }
  },
  {
   "cell_type": "code",
   "execution_count": 15,
   "outputs": [
    {
     "name": "stdout",
     "output_type": "stream",
     "text": [
      "Mean reward 99.65782004\n",
      "Std reward 132.8614795805479\n",
      "Mean episode length 1000.0\n"
     ]
    }
   ],
   "source": [
    "# Evaluate the model\n",
    "eval_model(model, env)"
   ],
   "metadata": {
    "collapsed": false
   }
  },
  {
   "cell_type": "code",
   "execution_count": null,
   "outputs": [],
   "source": [],
   "metadata": {
    "collapsed": false
   }
  }
 ],
 "metadata": {
  "kernelspec": {
   "display_name": "Python 3",
   "language": "python",
   "name": "python3"
  },
  "language_info": {
   "codemirror_mode": {
    "name": "ipython",
    "version": 2
   },
   "file_extension": ".py",
   "mimetype": "text/x-python",
   "name": "python",
   "nbconvert_exporter": "python",
   "pygments_lexer": "ipython2",
   "version": "2.7.6"
  }
 },
 "nbformat": 4,
 "nbformat_minor": 0
}
